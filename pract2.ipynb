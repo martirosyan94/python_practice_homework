{
 "cells": [
  {
   "cell_type": "code",
   "execution_count": 3,
   "metadata": {},
   "outputs": [],
   "source": [
    "# pract 1"
   ]
  },
  {
   "cell_type": "code",
   "execution_count": 5,
   "metadata": {},
   "outputs": [
    {
     "data": {
      "text/plain": [
       "11.666666666666666"
      ]
     },
     "execution_count": 5,
     "metadata": {},
     "output_type": "execute_result"
    }
   ],
   "source": [
    "def avg(a1, a2, a3):\n",
    "    return (a1+a2+a3)/3\n",
    "\n",
    "avg(5,10,20)"
   ]
  },
  {
   "cell_type": "code",
   "execution_count": 6,
   "metadata": {},
   "outputs": [],
   "source": [
    "#pract 2"
   ]
  },
  {
   "cell_type": "code",
   "execution_count": 11,
   "metadata": {},
   "outputs": [
    {
     "data": {
      "text/plain": [
       "2"
      ]
     },
     "execution_count": 11,
     "metadata": {},
     "output_type": "execute_result"
    }
   ],
   "source": [
    "def number_of_even(args):\n",
    "    n = 0\n",
    "    for i in args:\n",
    "        if i % 2 == 0:\n",
    "            n += 1\n",
    "    return n\n",
    "            \n",
    "number_of_even([10,20,21])"
   ]
  },
  {
   "cell_type": "code",
   "execution_count": 13,
   "metadata": {},
   "outputs": [
    {
     "name": "stdout",
     "output_type": "stream",
     "text": [
      "Janeyour grade is 89.66666666666667\n"
     ]
    }
   ],
   "source": [
    "# pract 3\n",
    "def grade(name, args=[]):\n",
    "    if len(args) > 0:\n",
    "        print(name + \"your grade is \" + str(sum(args)/len(args)))\n",
    "    else:\n",
    "        print(\"No grade available for \" + name)\n",
    "\n",
    "grade(\"Jane\", [100, 99, 70])"
   ]
  },
  {
   "cell_type": "code",
   "execution_count": 23,
   "metadata": {},
   "outputs": [
    {
     "name": "stdout",
     "output_type": "stream",
     "text": [
      "A red circule with radius 370\n"
     ]
    }
   ],
   "source": [
    " # pract 4\n",
    "\n",
    "class Circle:\n",
    "    def __init__(self, radius, color):\n",
    "        self.radius = radius\n",
    "        self.color = color\n",
    "    def get_desc(self):\n",
    "        print(f\"A {self.color} circule with radius {self.radius}\")\n",
    "obj_crcl = Circle(370, \"red\" )\n",
    "obj_crcl.get_desc()\n"
   ]
  },
  {
   "cell_type": "code",
   "execution_count": 26,
   "metadata": {},
   "outputs": [
    {
     "data": {
      "text/plain": [
       "'High'"
      ]
     },
     "execution_count": 26,
     "metadata": {},
     "output_type": "execute_result"
    }
   ],
   "source": [
    "#pract 5\n",
    "\n",
    "class Employee():\n",
    "    def __init__(self, name, last_name, __montly_salary):\n",
    "        self.name = name\n",
    "        self.last_name = last_name\n",
    "        self.__montly_salary = __montly_salary\n",
    "    def get_full_name(self):\n",
    "        return name, last_name\n",
    "    def annual_salary(self):\n",
    "        if self.__montly_salary*12 > 100:\n",
    "            return \"High\"\n",
    "        else:\n",
    "            return \"Low\"\n",
    "shinuyut = Employee(\"Nare\", \"Karapetyan\", 120)\n",
    "shinuyut.annual_salary()\n",
    "        "
   ]
  },
  {
   "cell_type": "code",
   "execution_count": 32,
   "metadata": {},
   "outputs": [
    {
     "data": {
      "text/plain": [
       "'Alfa Romeo is better than BMW'"
      ]
     },
     "execution_count": 32,
     "metadata": {},
     "output_type": "execute_result"
    }
   ],
   "source": [
    "# pract 6\n",
    "class Car:\n",
    "    def __init__(self, model, color, max_speed):\n",
    "        self.model = model\n",
    "        self.color = color\n",
    "        self.max_speed = max_speed\n",
    "    def compare_car(self, car2):\n",
    "        if self.max_speed > car2.max_speed:\n",
    "            return self.model + \" is better than \" + car2.model\n",
    "        else:\n",
    "            return car2.model + \" is better than \" + self.model \n",
    "\n",
    "car1 = Car(\"Alfa Romeo\", \"Yellow\", 120)\n",
    "car2 = Car(\"BMW\", \"Red\", 100)\n",
    "\n",
    "car1.compare_car(car2)\n"
   ]
  },
  {
   "cell_type": "code",
   "execution_count": 44,
   "metadata": {},
   "outputs": [
    {
     "name": "stdout",
     "output_type": "stream",
     "text": [
      "I can run rally fast\n"
     ]
    }
   ],
   "source": [
    "# pract 7\n",
    "\n",
    "class Animal:\n",
    "    def __init__(self, name):\n",
    "        self.move()\n",
    "    def move(self):\n",
    "        print(\"I can move\")\n",
    "\n",
    "class Dog(Animal):\n",
    "    def __init__(self):\n",
    "        Animal.__init__(self, \"Dog\")\n",
    "    def move(self):\n",
    "        print(\"I can run rally fast\")\n",
    "                \n",
    "anm = Dog()\n",
    "#anm.move()\n",
    "\n",
    "        \n",
    "        \n",
    "        "
   ]
  },
  {
   "cell_type": "code",
   "execution_count": null,
   "metadata": {},
   "outputs": [],
   "source": []
  }
 ],
 "metadata": {
  "kernelspec": {
   "display_name": "Python 3",
   "language": "python",
   "name": "python3"
  },
  "language_info": {
   "codemirror_mode": {
    "name": "ipython",
    "version": 3
   },
   "file_extension": ".py",
   "mimetype": "text/x-python",
   "name": "python",
   "nbconvert_exporter": "python",
   "pygments_lexer": "ipython3",
   "version": "3.7.6"
  }
 },
 "nbformat": 4,
 "nbformat_minor": 4
}
