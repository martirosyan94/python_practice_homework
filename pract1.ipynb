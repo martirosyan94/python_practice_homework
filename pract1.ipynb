{
 "cells": [
  {
   "cell_type": "code",
   "execution_count": 1,
   "metadata": {},
   "outputs": [
    {
     "name": "stdout",
     "output_type": "stream",
     "text": [
      "['hello', 1, True]\n"
     ]
    },
    {
     "name": "stdin",
     "output_type": "stream",
     "text": [
      "Please enter new element 5\n"
     ]
    },
    {
     "name": "stdout",
     "output_type": "stream",
     "text": [
      "['hello', 1, True, '5']\n"
     ]
    }
   ],
   "source": [
    "# pract 1\n",
    "list1 = [\"hello\", 1, True]\n",
    "print(list1)\n",
    "list1.append(input(\"Please enter new element\"))\n",
    "print(list1)"
   ]
  },
  {
   "cell_type": "code",
   "execution_count": 3,
   "metadata": {},
   "outputs": [
    {
     "name": "stdout",
     "output_type": "stream",
     "text": [
      "[1, 4, 6, 7, 8, 9, 0, 'six']\n",
      "[4, 6, 7, 0, 'six']\n"
     ]
    }
   ],
   "source": [
    "#pract  2\n",
    "list2 = [1, 4, 6, 7, 8, 9, 0, \"six\"]\n",
    "print(list2)\n",
    "list2.pop(0)\n",
    "list2.pop(3) \n",
    "list2.pop(3)\n",
    "print(list2)"
   ]
  },
  {
   "cell_type": "code",
   "execution_count": 13,
   "metadata": {},
   "outputs": [
    {
     "name": "stdin",
     "output_type": "stream",
     "text": [
      "Enter value 55\n"
     ]
    },
    {
     "name": "stdout",
     "output_type": "stream",
     "text": [
      "True\n"
     ]
    }
   ],
   "source": [
    "#pract 3\n",
    "set3 = {11, 3, 454, 0, 1}\n",
    "intermid_var = int(input(\"Enter value\"))\n",
    "\n",
    "if max(set3) > intermid_var > min(set3):\n",
    "    print(True)\n",
    "else:\n",
    "    print(False)\n",
    "\n",
    "\n",
    "\n"
   ]
  },
  {
   "cell_type": "code",
   "execution_count": 15,
   "metadata": {},
   "outputs": [
    {
     "name": "stdout",
     "output_type": "stream",
     "text": [
      "{'one': (0, 1), 'two': (2, 3)}\n"
     ]
    },
    {
     "name": "stdin",
     "output_type": "stream",
     "text": [
      "Enter key  tree\n",
      "Enter value  7\n"
     ]
    },
    {
     "name": "stdout",
     "output_type": "stream",
     "text": [
      "{'one': (0, 1), 'two': (2, 3), 'tree': '7'}\n"
     ]
    }
   ],
   "source": [
    "#pract 4\n",
    "\n",
    "dict1 = {\n",
    "    \"one\" : (0, 1),\n",
    "    \"two\" : (2, 3)\n",
    "}\n",
    "\n",
    "print(dict1)\n",
    "\n",
    "k1 = input(\"Enter key \")\n",
    "v1 = input(\"Enter value \")\n",
    "\n",
    "dict1[k1] = v1\n",
    "print(dict1)"
   ]
  },
  {
   "cell_type": "code",
   "execution_count": 18,
   "metadata": {},
   "outputs": [
    {
     "name": "stdin",
     "output_type": "stream",
     "text": [
      "Enter side 1  4\n",
      "Enter side 2 5\n"
     ]
    },
    {
     "name": "stdout",
     "output_type": "stream",
     "text": [
      "Rect\n"
     ]
    }
   ],
   "source": [
    "#pract 5\n",
    "a = int(input(\"Enter side 1 \"))\n",
    "b = int(input(\"Enter side 2\"))\n",
    "\n",
    "print(\"Square\") if a == b else print(\"Rect\") \n",
    "\n"
   ]
  },
  {
   "cell_type": "code",
   "execution_count": 24,
   "metadata": {},
   "outputs": [
    {
     "name": "stdin",
     "output_type": "stream",
     "text": [
      "Enter name  dwdw\n",
      "Enter age  2222\n",
      "Enter passwd wedwedwe*\n"
     ]
    }
   ],
   "source": [
    "#pract 6\n",
    "name = input(\"Enter name \")\n",
    "age = int(input (\"Enter age \"))\n",
    "passwd = input(\"Enter passwd\")\n",
    "\n",
    "if name == \"Batman\":\n",
    "    print(\"Welcome Mr.\" + name + \"!\")\n",
    "elif age < 16:\n",
    "    print(\"Dear\" + name + \"you too young to register\")\n",
    "elif not (\"&\" in passwd or \"*\" in passwd):\n",
    "    print(\"Please enter different passwd\")\n",
    "\n",
    "\n",
    "\n"
   ]
  },
  {
   "cell_type": "code",
   "execution_count": 25,
   "metadata": {},
   "outputs": [
    {
     "name": "stdout",
     "output_type": "stream",
     "text": [
      "1\n",
      "3\n",
      "5\n",
      "7\n",
      "9\n",
      "11\n",
      "13\n",
      "15\n",
      "17\n",
      "19\n",
      "21\n",
      "23\n",
      "25\n",
      "27\n",
      "29\n",
      "31\n",
      "33\n",
      "35\n",
      "37\n",
      "39\n",
      "41\n",
      "43\n",
      "45\n",
      "47\n",
      "49\n",
      "51\n",
      "53\n",
      "55\n",
      "57\n",
      "59\n",
      "61\n",
      "63\n",
      "65\n",
      "67\n",
      "69\n",
      "71\n",
      "73\n",
      "75\n",
      "77\n",
      "79\n",
      "81\n",
      "83\n",
      "85\n",
      "87\n",
      "89\n",
      "91\n",
      "93\n",
      "95\n",
      "97\n",
      "99\n"
     ]
    }
   ],
   "source": [
    "# pract 7\n",
    "for i in range(1, 100, 2):\n",
    "    print(i)"
   ]
  },
  {
   "cell_type": "code",
   "execution_count": 28,
   "metadata": {},
   "outputs": [
    {
     "name": "stdout",
     "output_type": "stream",
     "text": [
      "15\n"
     ]
    }
   ],
   "source": [
    "#pract 8\n",
    "for i in range(1, 21):\n",
    "    if i % 15 == 0:\n",
    "        print(i)\n",
    "        break\n",
    "        "
   ]
  },
  {
   "cell_type": "code",
   "execution_count": 33,
   "metadata": {},
   "outputs": [
    {
     "name": "stdout",
     "output_type": "stream",
     "text": [
      "[2, 3, 3, 4, 5, 121, 33, 3222]\n",
      "[121, 33, 3222]\n"
     ]
    }
   ],
   "source": [
    "#pract 9\n",
    "list1 = [2, 3, 3, 4, 5, 121, 33, 3222]\n",
    "list2 = [i for i in list1 if i > 21]\n",
    "print(list1)\n",
    "print(list2)"
   ]
  },
  {
   "cell_type": "code",
   "execution_count": 36,
   "metadata": {},
   "outputs": [
    {
     "name": "stdout",
     "output_type": "stream",
     "text": [
      "HOMERWORK\n"
     ]
    }
   ],
   "source": [
    "print(\"HOMERWORK\")\n"
   ]
  },
  {
   "cell_type": "code",
   "execution_count": 50,
   "metadata": {},
   "outputs": [
    {
     "name": "stdout",
     "output_type": "stream",
     "text": [
      "list1 =  [1, 5, 9, 11, 21, 5]\n"
     ]
    },
    {
     "name": "stdin",
     "output_type": "stream",
     "text": [
      "enter el  5\n"
     ]
    },
    {
     "name": "stdout",
     "output_type": "stream",
     "text": [
      "Number of 5s =  2\n"
     ]
    }
   ],
   "source": [
    "#hw 1\n",
    "list1 = [1, 5, 9, 11, 21, 5]\n",
    "print(\"list1 = \", list1)\n",
    "el = int(input(\"enter el \"))\n",
    "print(\"Number of \" + str(el)+ \"s = \", list1.count(el))\n",
    "\n",
    "\n"
   ]
  },
  {
   "cell_type": "code",
   "execution_count": 67,
   "metadata": {},
   "outputs": [
    {
     "name": "stdout",
     "output_type": "stream",
     "text": [
      "(1, 2, 55, 'hi', 'Hallo')\n",
      "(1, 2, 55, 'hi', 'Hello')\n"
     ]
    }
   ],
   "source": [
    "#hw 2\n",
    "t2 = (1, 2, 55, \"hi\", \"Hallo\")\n",
    "print(t2)\n",
    "t2 = list(t2)\n",
    "t2[4] = \"Hello\"\n",
    "t2 = tuple(t2)\n",
    "print(t2)\n"
   ]
  },
  {
   "cell_type": "code",
   "execution_count": 71,
   "metadata": {},
   "outputs": [
    {
     "name": "stdout",
     "output_type": "stream",
     "text": [
      "15\n"
     ]
    }
   ],
   "source": [
    "#hw 3\n",
    "d = {\n",
    "    \"name\" : \"Armen\",\n",
    "    \"age\" : 15,\n",
    "    \"grades\" : [10, 8, 8, 4, 6, 7]\n",
    "}\n",
    "\n",
    "if \"weight\" in d.keys():\n",
    "    print(d[\"weight\"])\n",
    "else:\n",
    "    n = input(\"Enter weight\")\n",
    "    d[\"weight\"] = n \n",
    "\n",
    "\n",
    "\n",
    "\n"
   ]
  },
  {
   "cell_type": "code",
   "execution_count": 74,
   "metadata": {},
   "outputs": [
    {
     "name": "stdin",
     "output_type": "stream",
     "text": [
      "Enter value  5\n"
     ]
    },
    {
     "name": "stdout",
     "output_type": "stream",
     "text": [
      "That was a good guess!\n"
     ]
    }
   ],
   "source": [
    "#hw 4\n",
    "correct_num = 5\n",
    "guess = int(input(\"Enter value \"))\n",
    "for i in range(10):\n",
    "    if guess == correct_num:\n",
    "        print(\"That was a good guess!\")\n",
    "        break"
   ]
  },
  {
   "cell_type": "code",
   "execution_count": 75,
   "metadata": {},
   "outputs": [
    {
     "name": "stdout",
     "output_type": "stream",
     "text": [
      "['abc', 'xyz', 'aba', '1221']\n"
     ]
    }
   ],
   "source": [
    "#hw 5\n",
    "list1 = [\"a\", \"abc\", \"xyz\", \"s\", \"aba\", \"1221\"]\n",
    "\n",
    "print([ i for i in list1 if len(i) > 1])\n",
    "\n"
   ]
  },
  {
   "cell_type": "code",
   "execution_count": null,
   "metadata": {},
   "outputs": [],
   "source": []
  },
  {
   "cell_type": "code",
   "execution_count": null,
   "metadata": {},
   "outputs": [],
   "source": []
  },
  {
   "cell_type": "code",
   "execution_count": null,
   "metadata": {},
   "outputs": [],
   "source": []
  },
  {
   "cell_type": "code",
   "execution_count": null,
   "metadata": {},
   "outputs": [],
   "source": []
  },
  {
   "cell_type": "code",
   "execution_count": null,
   "metadata": {},
   "outputs": [],
   "source": []
  },
  {
   "cell_type": "code",
   "execution_count": null,
   "metadata": {},
   "outputs": [],
   "source": []
  },
  {
   "cell_type": "code",
   "execution_count": null,
   "metadata": {},
   "outputs": [],
   "source": []
  },
  {
   "cell_type": "code",
   "execution_count": null,
   "metadata": {},
   "outputs": [],
   "source": []
  },
  {
   "cell_type": "code",
   "execution_count": null,
   "metadata": {},
   "outputs": [],
   "source": []
  },
  {
   "cell_type": "code",
   "execution_count": null,
   "metadata": {},
   "outputs": [],
   "source": []
  }
 ],
 "metadata": {
  "kernelspec": {
   "display_name": "Python 3",
   "language": "python",
   "name": "python3"
  },
  "language_info": {
   "codemirror_mode": {
    "name": "ipython",
    "version": 3
   },
   "file_extension": ".py",
   "mimetype": "text/x-python",
   "name": "python",
   "nbconvert_exporter": "python",
   "pygments_lexer": "ipython3",
   "version": "3.7.6"
  }
 },
 "nbformat": 4,
 "nbformat_minor": 4
}
